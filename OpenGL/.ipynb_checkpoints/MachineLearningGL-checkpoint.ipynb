{
 "cells": [
  {
   "cell_type": "markdown",
   "metadata": {},
   "source": [
    "# Get/Format Data"
   ]
  },
  {
   "cell_type": "code",
   "execution_count": 2,
   "metadata": {
    "collapsed": true
   },
   "outputs": [],
   "source": [
    "import pandas as pd\n",
    "import numpy as np\n",
    "dataFrame = pd.read_csv(\"dataGL2.csv\")"
   ]
  },
  {
   "cell_type": "code",
   "execution_count": 4,
   "metadata": {
    "scrolled": false
   },
   "outputs": [
    {
     "name": "stdout",
     "output_type": "stream",
     "text": [
      "Train Data:500000 Test Data: 500000\n"
     ]
    }
   ],
   "source": [
    "from sklearn.model_selection import train_test_split\n",
    "\n",
    "train, test = train_test_split(dataFrame, test_size=0.5)\n",
    "print (\"Train Data:\" + str(len(train)), \"Test Data: \"+ str(len(test)))\n",
    "#train = dataFrame.sample(frac=.8)\n",
    "X_train = train[[\"X\",\"Y\",\"W\",\"H\"]].copy()\n",
    "y_train = pd.DataFrame()\n",
    "y_train[\"LPX\"] = train[\"LPX\"]\n",
    "y_train[\"RPX\"] = train[\"RPX\"]\n",
    "y_train[\"LPY\"] = train[\"LPY\"]\n",
    "y_train[\"LPZ\"] = train[\"LPZ\"]\n",
    "\n",
    "X_test = test[[\"X\",\"Y\",\"W\",\"H\"]].copy()\n",
    "y_test = pd.DataFrame()\n",
    "y_test[\"LPX\"] = test[\"LPX\"]\n",
    "y_test[\"RPX\"] = test[\"RPX\"]\n",
    "y_test[\"LPY\"] = test[\"LPY\"]\n",
    "y_test[\"LPZ\"] = test[\"LPZ\"]\n",
    "\n"
   ]
  },
  {
   "cell_type": "markdown",
   "metadata": {},
   "source": [
    "# Build Models"
   ]
  },
  {
   "cell_type": "code",
   "execution_count": 5,
   "metadata": {},
   "outputs": [
    {
     "data": {
      "text/plain": [
       "0.91923158752105394"
      ]
     },
     "execution_count": 5,
     "metadata": {},
     "output_type": "execute_result"
    }
   ],
   "source": [
    "##Linear Model\n",
    "from sklearn import linear_model\n",
    "lin = linear_model.LinearRegression()\n",
    "lin.fit(X_train,y_train)\n",
    "lin.score(X_test,y_test)"
   ]
  },
  {
   "cell_type": "code",
   "execution_count": 7,
   "metadata": {
    "scrolled": true
   },
   "outputs": [
    {
     "name": "stdout",
     "output_type": "stream",
     "text": [
      "[[ 0.05906458  0.0020752  -0.00749389 -0.01521641]\n",
      " [ 0.05906458  0.0020752  -0.00749389 -0.01521641]\n",
      " [ 0.05723678 -0.11593934 -0.02423907 -0.04848817]\n",
      " [ 0.00062601 -0.00247499  0.04206138  0.08643792]]\n"
     ]
    }
   ],
   "source": [
    "print(lin.coef_)"
   ]
  },
  {
   "cell_type": "code",
   "execution_count": 8,
   "metadata": {},
   "outputs": [
    {
     "data": {
      "text/plain": [
       "0.96987057437346635"
      ]
     },
     "execution_count": 8,
     "metadata": {},
     "output_type": "execute_result"
    }
   ],
   "source": [
    "from sklearn.neural_network import MLPRegressor\n",
    "net = MLPRegressor()\n",
    "net.fit(X_train,y_train)\n",
    "net.score(X_test,y_test)"
   ]
  },
  {
   "cell_type": "markdown",
   "metadata": {},
   "source": [
    "# Save Models to File"
   ]
  },
  {
   "cell_type": "code",
   "execution_count": 9,
   "metadata": {
    "collapsed": true
   },
   "outputs": [],
   "source": [
    "import pickle\n",
    "filename = 'neuralNetGL2'\n",
    "pickle.dump(net, open(filename+\".sav\", 'wb'))\n",
    "filename = 'linearRegGL2'\n",
    "pickle.dump(lin, open(filename+\".sav\", 'wb'))"
   ]
  },
  {
   "cell_type": "markdown",
   "metadata": {},
   "source": [
    "# Grab Models from File\n"
   ]
  },
  {
   "cell_type": "code",
   "execution_count": 18,
   "metadata": {},
   "outputs": [],
   "source": [
    "import pickle\n",
    "loaded_net = pickle.load(open('neuralNetGL2'+\".sav\", 'rb'))\n",
    "loaded_lin = pickle.load(open('linearRegGL2'+\".sav\", 'rb'))"
   ]
  }
 ],
 "metadata": {
  "kernelspec": {
   "display_name": "Python 3",
   "language": "python",
   "name": "python3"
  },
  "language_info": {
   "codemirror_mode": {
    "name": "ipython",
    "version": 3
   },
   "file_extension": ".py",
   "mimetype": "text/x-python",
   "name": "python",
   "nbconvert_exporter": "python",
   "pygments_lexer": "ipython3",
   "version": "3.6.2"
  }
 },
 "nbformat": 4,
 "nbformat_minor": 2
}
