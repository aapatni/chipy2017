{
 "cells": [
  {
   "cell_type": "code",
   "execution_count": 17,
   "metadata": {
    "collapsed": true
   },
   "outputs": [],
   "source": [
    "import pandas as pd\n",
    "import numpy as np\n",
    "dataFrame = pd.read_csv(\"dataGL2.csv\")"
   ]
  },
  {
   "cell_type": "code",
   "execution_count": null,
   "metadata": {},
   "outputs": [],
   "source": [
    "from sklearn.model_selection import train_test_split\n",
    "\n",
    "train, test = train_test_split(dataFrame, test_size=0.5)\n",
    "print (\"Train Data:\" + len(train), \"Test Data: \"+ len(test))\n",
    "#train = dataFrame.sample(frac=.8)\n",
    "X_train = train[[\"X\",\"Y\",\"W\",\"H\"]].copy()\n",
    "y_train = pd.DataFrame()\n",
    "y_train[\"LPX\"] = train[\"LPX\"]\n",
    "y_train[\"RPX\"] = train[\"RPX\"]\n",
    "y_train[\"LPY\"] = train[\"LPY\"]\n",
    "y_train[\"LPZ\"] = train[\"LPZ\"]\n",
    "\n",
    "X_test = test[[\"X\",\"Y\",\"W\",\"H\"]].copy()\n",
    "y_test = pd.DataFrame()\n",
    "y_test[\"LPX\"] = test[\"LPX\"]\n",
    "y_test[\"RPX\"] = test[\"RPX\"]\n",
    "y_test[\"LPY\"] = test[\"LPY\"]\n",
    "y_test[\"LPZ\"] = test[\"LPZ\"]\n",
    "\n"
   ]
  },
  {
   "cell_type": "code",
   "execution_count": 22,
   "metadata": {},
   "outputs": [
    {
     "data": {
      "text/plain": [
       "0.91924033184138776"
      ]
     },
     "execution_count": 22,
     "metadata": {},
     "output_type": "execute_result"
    }
   ],
   "source": [
    "##Linear Model\n",
    "from sklearn import linear_model\n",
    "lin = linear_model.LinearRegression()\n",
    "lin.fit(X_train,y_train)\n",
    "lin.score(X_test,y_test)"
   ]
  },
  {
   "cell_type": "code",
   "execution_count": 23,
   "metadata": {},
   "outputs": [
    {
     "name": "stdout",
     "output_type": "stream",
     "text": [
      "[[ 0.05902429  0.00208447 -0.00740102 -0.01530527]\n",
      " [ 0.05902429  0.00208447 -0.00740102 -0.01530527]\n",
      " [ 0.05720423 -0.1159389  -0.02405453 -0.04883868]\n",
      " [ 0.00070201 -0.00248609  0.04186136  0.08664955]]\n"
     ]
    }
   ],
   "source": [
    "print(lin.coef_)"
   ]
  },
  {
   "cell_type": "code",
   "execution_count": 25,
   "metadata": {},
   "outputs": [
    {
     "name": "stderr",
     "output_type": "stream",
     "text": [
      "C:\\Users\\adamp\\Anaconda3\\lib\\site-packages\\sklearn\\neural_network\\multilayer_perceptron.py:566: UserWarning: Training interrupted by user.\n",
      "  warnings.warn(\"Training interrupted by user.\")\n"
     ]
    },
    {
     "data": {
      "text/plain": [
       "0.96353593427337592"
      ]
     },
     "execution_count": 25,
     "metadata": {},
     "output_type": "execute_result"
    }
   ],
   "source": [
    "from sklearn.neural_network import MLPRegressor\n",
    "net = MLPRegressor()\n",
    "net.fit(X_train,y_train)\n",
    "net.score(X_test,y_test)"
   ]
  }
 ],
 "metadata": {
  "kernelspec": {
   "display_name": "Python 3",
   "language": "python",
   "name": "python3"
  },
  "language_info": {
   "codemirror_mode": {
    "name": "ipython",
    "version": 3
   },
   "file_extension": ".py",
   "mimetype": "text/x-python",
   "name": "python",
   "nbconvert_exporter": "python",
   "pygments_lexer": "ipython3",
   "version": "3.6.2"
  }
 },
 "nbformat": 4,
 "nbformat_minor": 2
}
