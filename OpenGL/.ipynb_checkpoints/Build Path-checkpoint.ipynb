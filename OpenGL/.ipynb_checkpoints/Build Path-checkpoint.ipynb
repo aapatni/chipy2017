{
 "cells": [
  {
   "cell_type": "markdown",
   "metadata": {},
   "source": [
    "# Grab Models from File\n"
   ]
  },
  {
   "cell_type": "code",
   "execution_count": 2,
   "metadata": {
    "collapsed": true
   },
   "outputs": [],
   "source": [
    "import pickle\n",
    "loaded_net = pickle.load(open('neuralNetGL3'+\".sav\", 'rb'))\n",
    "loaded_lin = pickle.load(open('linearRegGL3'+\".sav\", 'rb'))"
   ]
  },
  {
   "cell_type": "markdown",
   "metadata": {},
   "source": [
    "# Get Data from CSV\n"
   ]
  },
  {
   "cell_type": "code",
   "execution_count": 3,
   "metadata": {
    "collapsed": true
   },
   "outputs": [],
   "source": [
    "import pandas as pd\n",
    "import numpy as np\n",
    "dataFrame = pd.read_csv(\"dataGL3.csv\")"
   ]
  },
  {
   "cell_type": "code",
   "execution_count": 4,
   "metadata": {
    "collapsed": true
   },
   "outputs": [],
   "source": [
    "sample = dataFrame.sample(frac = .01)"
   ]
  },
  {
   "cell_type": "code",
   "execution_count": 5,
   "metadata": {
    "collapsed": true
   },
   "outputs": [],
   "source": [
    "input_layer = sample[['X','Y',\"W\",\"H\"]]"
   ]
  },
  {
   "cell_type": "code",
   "execution_count": 6,
   "metadata": {
    "collapsed": true
   },
   "outputs": [],
   "source": [
    "from sklearn.neural_network import MLPRegressor\n",
    "import math\n",
    "##In order: LPX , RPX, LPY, LPZ\n",
    "def getNeuralNet(x):\n",
    "    data =  loaded_net.predict([x])[0]\n",
    "    centerX = (data[0] + data[1])/2.0\n",
    "    angle = 90 - np.arctan2((abs(data[3].item())),centerX)*180/3.14\n",
    "    plotThing(centerX, angle, data[3].item())\n",
    "    #print(angle)\n",
    "    #print(\"Angle: \", (90-angle), \" Degrees\")\n",
    "    "
   ]
  },
  {
   "cell_type": "code",
   "execution_count": 7,
   "metadata": {
    "collapsed": true
   },
   "outputs": [],
   "source": [
    "import matplotlib.pyplot as plt\n",
    "fig = plt.figure()\n",
    "#fig = plt.subplots(nrows = 1, ncols = 2)\n",
    "plt.subplot(2,1,1)\n",
    "plt.ylabel('X Values')\n",
    "plt.xlabel('Angle in Degrees')\n",
    "plt.axis(\"auto\")\n",
    "\n",
    "plt.subplot(2,1,2)\n",
    "plt.ylabel('Z Values')\n",
    "plt.xlabel('Angle in Degrees')\n",
    "plt.axis(\"auto\")\n",
    "\n",
    "\n",
    "def plotThing(centerX, angle, z):\n",
    "    plt.subplot(2,1,1)\n",
    "    plt.plot(angle,centerX, ',')\n",
    "    plt.subplot(2,1,2)\n",
    "    plt.plot(angle, z, \",\")"
   ]
  },
  {
   "cell_type": "code",
   "execution_count": 8,
   "metadata": {},
   "outputs": [],
   "source": [
    "input_layer.apply(lambda x: getNeuralNet(x), axis =1);"
   ]
  },
  {
   "cell_type": "code",
   "execution_count": 9,
   "metadata": {
    "scrolled": false
   },
   "outputs": [
    {
     "data": {
      "image/png": "[encoded data removed]",
      "text/plain": [
       "<matplotlib.figure.Figure at 0x1a3daf51048>"
      ]
     },
     "execution_count": 9,
     "metadata": {},
     "output_type": "execute_result"
    }
   ],
   "source": [
    "fig"
   ]
  }
 ],
 "metadata": {
  "kernelspec": {
   "display_name": "Python 3",
   "language": "python",
   "name": "python3"
  },
  "language_info": {
   "codemirror_mode": {
    "name": "ipython",
    "version": 3
   },
   "file_extension": ".py",
   "mimetype": "text/x-python",
   "name": "python",
   "nbconvert_exporter": "python",
   "pygments_lexer": "ipython3",
   "version": "3.6.2"
  }
 },
 "nbformat": 4,
 "nbformat_minor": 2
}
