{
 "cells": [
  {
   "cell_type": "markdown",
   "metadata": {},
   "source": [
    "# Get/Format Data"
   ]
  },
  {
   "cell_type": "code",
   "execution_count": 1,
   "metadata": {
    "collapsed": true
   },
   "outputs": [],
   "source": [
    "import pandas as pd\n",
    "import numpy as np\n",
    "dataFrame = pd.read_csv(\"dataGL3.csv\")"
   ]
  },
  {
   "cell_type": "code",
   "execution_count": 3,
   "metadata": {
    "scrolled": false
   },
   "outputs": [
    {
     "name": "stdout",
     "output_type": "stream",
     "text": [
      "Train Data:50000 Test Data: 50000\n"
     ]
    }
   ],
   "source": [
    "from sklearn.model_selection import train_test_split\n",
    "\n",
    "train, test = train_test_split(dataFrame, test_size=0.5)\n",
    "print (\"Train Data:\" + str(len(train)), \"Test Data: \"+ str(len(test)))\n",
    "#train = dataFrame.sample(frac=.8)\n",
    "X_train = train[[\"X\",\"Y\",\"W\",\"H\"]].copy()\n",
    "y_train = pd.DataFrame()\n",
    "y_train[\"LPX\"] = train[\"LPX\"]\n",
    "y_train[\"RPX\"] = train[\"RPX\"]\n",
    "y_train[\"LPY\"] = train[\"LPY\"]\n",
    "y_train[\"LPZ\"] = train[\"LPZ\"]\n",
    "\n",
    "X_test = test[[\"X\",\"Y\",\"W\",\"H\"]].copy()\n",
    "y_test = pd.DataFrame()\n",
    "y_test[\"LPX\"] = test[\"LPX\"]\n",
    "y_test[\"RPX\"] = test[\"RPX\"]\n",
    "y_test[\"LPY\"] = test[\"LPY\"]\n",
    "y_test[\"LPZ\"] = test[\"LPZ\"]\n",
    "\n",
    "##In order: LPX , RPX, LPY, LPZ\n",
    "\n"
   ]
  },
  {
   "cell_type": "markdown",
   "metadata": {},
   "source": [
    "# Build Models"
   ]
  },
  {
   "cell_type": "code",
   "execution_count": 4,
   "metadata": {},
   "outputs": [
    {
     "data": {
      "text/plain": [
       "0.89060966653748208"
      ]
     },
     "execution_count": 4,
     "metadata": {},
     "output_type": "execute_result"
    }
   ],
   "source": [
    "##Linear Model\n",
    "from sklearn import linear_model\n",
    "lin = linear_model.LinearRegression()\n",
    "lin.fit(X_train,y_train)\n",
    "lin.score(X_test,y_test)"
   ]
  },
  {
   "cell_type": "code",
   "execution_count": 5,
   "metadata": {
    "scrolled": true
   },
   "outputs": [
    {
     "name": "stdout",
     "output_type": "stream",
     "text": [
      "[[ 0.03408622  0.04603655 -0.00027677 -0.00325469]\n",
      " [ 0.03408622  0.04603655 -0.00027677 -0.00325469]\n",
      " [ 0.          0.          0.          0.        ]\n",
      " [ 0.00537474 -0.00820563  0.03749671  0.0668818 ]]\n"
     ]
    }
   ],
   "source": [
    "print(lin.coef_)"
   ]
  },
  {
   "cell_type": "code",
   "execution_count": 6,
   "metadata": {},
   "outputs": [
    {
     "data": {
      "text/plain": [
       "0.96296484381455394"
      ]
     },
     "execution_count": 6,
     "metadata": {},
     "output_type": "execute_result"
    }
   ],
   "source": [
    "from sklearn.neural_network import MLPRegressor\n",
    "net = MLPRegressor()\n",
    "net.fit(X_train,y_train)\n",
    "net.score(X_test,y_test)"
   ]
  },
  {
   "cell_type": "markdown",
   "metadata": {},
   "source": [
    "# Save Models to File"
   ]
  },
  {
   "cell_type": "code",
   "execution_count": 7,
   "metadata": {
    "collapsed": true
   },
   "outputs": [],
   "source": [
    "import pickle\n",
    "filename = 'neuralNetGL3'\n",
    "pickle.dump(net, open(filename+\".sav\", 'wb'))\n",
    "filename = 'linearRegGL3'\n",
    "pickle.dump(lin, open(filename+\".sav\", 'wb'))"
   ]
  },
  {
   "cell_type": "markdown",
   "metadata": {},
   "source": [
    "# Grab Models from File\n"
   ]
  },
  {
   "cell_type": "code",
   "execution_count": 18,
   "metadata": {
    "collapsed": true
   },
   "outputs": [],
   "source": [
    "import pickle\n",
    "loaded_net = pickle.load(open('neuralNetGL2'+\".sav\", 'rb'))\n",
    "loaded_lin = pickle.load(open('linearRegGL2'+\".sav\", 'rb'))"
   ]
  }
 ],
 "metadata": {
  "kernelspec": {
   "display_name": "Python 3",
   "language": "python",
   "name": "python3"
  },
  "language_info": {
   "codemirror_mode": {
    "name": "ipython",
    "version": 3
   },
   "file_extension": ".py",
   "mimetype": "text/x-python",
   "name": "python",
   "nbconvert_exporter": "python",
   "pygments_lexer": "ipython3",
   "version": "3.6.2"
  }
 },
 "nbformat": 4,
 "nbformat_minor": 2
}
