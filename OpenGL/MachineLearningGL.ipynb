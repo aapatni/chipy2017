{
 "cells": [
  {
   "cell_type": "code",
   "execution_count": 56,
   "metadata": {},
   "outputs": [],
   "source": [
    "import pandas as pd\n",
    "import numpy as np\n",
    "dataFrame = pd.read_csv(\"dataGL.csv\")"
   ]
  },
  {
   "cell_type": "code",
   "execution_count": 60,
   "metadata": {},
   "outputs": [],
   "source": [
    "from sklearn.model_selection import train_test_split\n",
    "\n",
    "train, test = train_test_split(df, test_size=0.5)\n",
    "train = dataFrame.sample(frac=.8)\n",
    "X_train = train[[\"X\",\"Y\",\"W\",\"H\"]].copy()\n",
    "y_train = pd.DataFrame()\n",
    "y_train[\"LPX\"] = train[\"LPX\"]\n",
    "y_train[\"RPX\"] = train[\"RPX\"]\n",
    "y_train[\"LPY\"] = train[\"LPY\"]\n",
    "y_train[\"LPZ\"] = train[\"LPZ\"]\n",
    "\n",
    "X_test = test[[\"X\",\"Y\",\"W\",\"H\"]].copy()\n",
    "y_test = pd.DataFrame()\n",
    "y_test[\"LPX\"] = test[\"LPX\"]\n",
    "y_test[\"RPX\"] = test[\"RPX\"]\n",
    "y_test[\"LPY\"] = test[\"LPY\"]\n",
    "y_test[\"LPZ\"] = test[\"LPZ\"]\n",
    "\n"
   ]
  },
  {
   "cell_type": "code",
   "execution_count": 61,
   "metadata": {},
   "outputs": [
    {
     "data": {
      "text/plain": [
       "0.95078095544513197"
      ]
     },
     "execution_count": 61,
     "metadata": {},
     "output_type": "execute_result"
    }
   ],
   "source": [
    "##Linear Model\n",
    "from sklearn import linear_model\n",
    "reg = linear_model.LinearRegression()\n",
    "reg.fit(X_train,y_train)\n",
    "reg.score(X_test,y_test)"
   ]
  },
  {
   "cell_type": "code",
   "execution_count": 64,
   "metadata": {},
   "outputs": [
    {
     "data": {
      "text/plain": [
       "0.9986961256596073"
      ]
     },
     "execution_count": 64,
     "metadata": {},
     "output_type": "execute_result"
    }
   ],
   "source": [
    "from sklearn.neural_network import MLPRegressor\n",
    "reg = MLPRegressor()\n",
    "reg.fit(X_train,y_train)\n",
    "reg.score(X_test,y_test)"
   ]
  }
 ],
 "metadata": {
  "kernelspec": {
   "display_name": "Python 3",
   "language": "python",
   "name": "python3"
  },
  "language_info": {
   "codemirror_mode": {
    "name": "ipython",
    "version": 3
   },
   "file_extension": ".py",
   "mimetype": "text/x-python",
   "name": "python",
   "nbconvert_exporter": "python",
   "pygments_lexer": "ipython3",
   "version": "3.6.2"
  }
 },
 "nbformat": 4,
 "nbformat_minor": 2
}
