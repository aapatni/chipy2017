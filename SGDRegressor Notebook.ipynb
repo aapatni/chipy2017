{
 "cells": [
  {
   "cell_type": "code",
   "execution_count": 1,
   "metadata": {},
   "outputs": [],
   "source": [
    "import random,math\n",
    "data = []\n",
    "for i in range(100):\n",
    "        try:\n",
    "            #x = random.randint(150,350)\n",
    "            #y = random.randint(100,200)\n",
    "            #w= random.randint(200,400)\n",
    "            x = i + 190\n",
    "            y = 120 + random.randint(-10,10)\n",
    "            w = random.randint(50,200)\n",
    "            dire = math.atan(float(w)/-1*(x-240))\n",
    "            #dire=math.atan(float(y+120)/(x-160))\n",
    "            data.append({\"X\":x,\"Y\":y,\"Width\":w,\"Direction\":dire})\n",
    "        except:\n",
    "                continue"
   ]
  },
  {
   "cell_type": "code",
   "execution_count": 2,
   "metadata": {},
   "outputs": [
    {
     "name": "stdout",
     "output_type": "stream",
     "text": [
      "(100, 3)\n",
      "SGDRegressor(alpha=0.0001, average=False, epsilon=0.1, eta0=0.01,\n",
      "       fit_intercept=True, l1_ratio=0.15, learning_rate='invscaling',\n",
      "       loss='squared_loss', max_iter=500000, n_iter=None, penalty='l2',\n",
      "       power_t=0.25, random_state=None, shuffle=True, tol=1e-05, verbose=0,\n",
      "       warm_start=False)\n"
     ]
    }
   ],
   "source": [
    "import pandas as pd\n",
    "from sklearn.linear_model import SGDRegressor\n",
    "\n",
    "df = pd.DataFrame(data)\n",
    "X = df.iloc[:,:3].values\n",
    "Y = df[\"Direction\"].values\n",
    "print (X.shape)\n",
    "\n",
    "clf = SGDRegressor(max_iter=500000,tol=1e-5)\n",
    "print (clf.fit(X,Y))"
   ]
  },
  {
   "cell_type": "code",
   "execution_count": 3,
   "metadata": {
    "scrolled": true
   },
   "outputs": [
    {
     "name": "stdout",
     "output_type": "stream",
     "text": [
      "Coefficients:  [  2.27273121e+10  -2.36422265e+11  -7.08936702e+10]\n",
      "Predicted Value:  [ -3.52035072e+13]\n",
      "Expected Output:  -1.5706937732110084\n"
     ]
    }
   ],
   "source": [
    "print (\"Coefficients: \", clf.coef_)\n",
    "print(\"Predicted Value: \", clf.predict([[x,y,w]]))\n",
    "print (\"Expected Output: \", dire)"
   ]
  }
 ],
 "metadata": {
  "kernelspec": {
   "display_name": "Python 3",
   "language": "python",
   "name": "python3"
  },
  "language_info": {
   "codemirror_mode": {
    "name": "ipython",
    "version": 3
   },
   "file_extension": ".py",
   "mimetype": "text/x-python",
   "name": "python",
   "nbconvert_exporter": "python",
   "pygments_lexer": "ipython3",
   "version": "3.6.2"
  }
 },
 "nbformat": 4,
 "nbformat_minor": 2
}
