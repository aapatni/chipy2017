{
 "cells": [
  {
   "cell_type": "code",
   "execution_count": 30,
   "metadata": {},
   "outputs": [
    {
     "name": "stdout",
     "output_type": "stream",
     "text": [
      "[  3.5144274   11.91246489  -0.07093019 -24.22716798]\n",
      "[  4.71892786  12.9844808    2.80919304 -25.81740371]\n",
      "17.6237439071 7.71344614533\n",
      "18.888639779 8.85170432991\n"
     ]
    }
   ],
   "source": [
    "import pickle\n",
    "import time, numpy as np\n",
    "def getNet(filename):\n",
    "    loaded_net = pickle.load(open(filename+\".sav\", 'rb'))\n",
    "    return loaded_net\n",
    "\n",
    "def predictReal(net, values):\n",
    "    return net.predict([values])[0]\n",
    "\n",
    "def getAngle(values):\n",
    "    centerX = (values[0] + values[1])/2.0\n",
    "    angle = (90 - np.arctan2((abs(values[3].item())),centerX)*180/3.14)\n",
    "    return (centerX, angle)\n",
    "\n",
    "\n",
    "def Handler():\n",
    "    net = getNet('neuralNetGL3')\n",
    "    realWorld = predictReal(net, [262,153,115,55])\n",
    "    centerX, angle = getAngle(realWorld)\n",
    "    return angle\n",
    "\n",
    "Handler()\n",
    "\n",
    "\n",
    "    \n"
   ]
  }
 ],
 "metadata": {
  "kernelspec": {
   "display_name": "Python 3",
   "language": "python",
   "name": "python3"
  },
  "language_info": {
   "codemirror_mode": {
    "name": "ipython",
    "version": 3
   },
   "file_extension": ".py",
   "mimetype": "text/x-python",
   "name": "python",
   "nbconvert_exporter": "python",
   "pygments_lexer": "ipython3",
   "version": "3.6.2"
  }
 },
 "nbformat": 4,
 "nbformat_minor": 2
}
