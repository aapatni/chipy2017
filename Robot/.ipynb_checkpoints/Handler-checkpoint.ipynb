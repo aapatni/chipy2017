{
 "cells": [
  {
   "cell_type": "code",
   "execution_count": 13,
   "metadata": {},
   "outputs": [],
   "source": [
    "import pickle\n",
    "import time\n",
    "def getNet(filename):\n",
    "    loaded_net = pickle.load(open(filename+\".sav\", 'rb'))\n",
    "    return loaded_net\n",
    "\n",
    "def predictReal(net, values):\n",
    "    return net.predict([values])[0]\n",
    "\n",
    "def getAngle(values):\n",
    "    centerX = (values[0] + values[1])/2.0\n",
    "    angle = (90 - np.arctan2((abs(values[3].item())),centerX)*180/3.14)\n",
    "    return (centerX, angle)\n",
    "\n",
    "\n",
    "def Handler():\n",
    "    net = getNet('neuralNetGL3')\n",
    "    print(net)\n",
    "    realWorld = predictReal(net, [160,120,25,12])\n",
    "    centerX, angle = getAngle(realWorld)\n",
    "    print(angle)\n",
    "    \n"
   ]
  }
 ],
 "metadata": {
  "kernelspec": {
   "display_name": "Python 3",
   "language": "python",
   "name": "python3"
  },
  "language_info": {
   "codemirror_mode": {
    "name": "ipython",
    "version": 3
   },
   "file_extension": ".py",
   "mimetype": "text/x-python",
   "name": "python",
   "nbconvert_exporter": "python",
   "pygments_lexer": "ipython3",
   "version": "3.6.2"
  }
 },
 "nbformat": 4,
 "nbformat_minor": 2
}
