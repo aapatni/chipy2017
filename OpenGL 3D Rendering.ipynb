{
 "cells": [
  {
   "cell_type": "code",
   "execution_count": 1,
   "metadata": {},
   "outputs": [
    {
     "name": "stdout",
     "output_type": "stream",
     "text": [
      "GLError(\n",
      "\terr = 1282,\n",
      "\tdescription = b'invalid operation',\n",
      "\tbaseOperation = glEnd,\n",
      "\tcArguments = ()\n",
      ")\n"
     ]
    }
   ],
   "source": [
    "import pygame\n",
    "from pygame.locals import *\n",
    "import random\n",
    "from OpenGL.GL import *\n",
    "from OpenGL.GLU import *\n",
    "\n",
    "rect1 = [(-5.125,0,-40),(-3.125,0,-40),(-3.125,5,-40),(-5.125,5,-40),]\n",
    "rect2 = [(3.125,0,-40),(5.125,0,-40),(5.125,5,-40),(3.125,5,-40)]\n",
    "edges = ((0,1),(1,2),(2,3),(3,0))\n",
    "\n",
    "locations = []\n",
    "def Dimensions(object):\n",
    "    def __init__(self,x,y,z,width,height):\n",
    "        self.x = x\n",
    "        self.y = y\n",
    "        self.z = z\n",
    "        self.width = width\n",
    "        self.height\n",
    "    def getX(self):\n",
    "        return self.x\n",
    "    def getY(self):\n",
    "        return self.y\n",
    "    def getZ(self):\n",
    "        return self.z\n",
    "    def getWidth(self):\n",
    "        return self.width\n",
    "    def getHeight(self):\n",
    "        return self.height\n",
    "    \n",
    "\n",
    "def Target():\n",
    "    glBegin(GL_LINES)\n",
    "    for edge in edges:\n",
    "        for vertex in edge:\n",
    "            glVertex3fv(rect1[vertex])\n",
    "    glEnd()\n",
    "    glBegin(GL_LINES)\n",
    "    for edge in edges:\n",
    "        for vertex in edge:\n",
    "            glVertex3fv(rect2[vertex])\n",
    "    glEnd()\n",
    "    \n",
    "def main():\n",
    "    try:\n",
    "        pygame.init()\n",
    "        display = (320,240)\n",
    "        pygame.display.set_mode(display, DOUBLEBUF|OPENGL)\n",
    "        gluPerspective(45, (display[0]/display[1]), .1, 1000)\n",
    "        \n",
    "        while True:\n",
    "            for event in pygame.event.get():\n",
    "                if event.type == pygame.QUIT:\n",
    "                    pygame.quit()\n",
    "                    quit()        \n",
    "            \n",
    "            #glRotate(0,0,0,0) #angle, x, y, z\n",
    "            #glTranslatef(0,0,0) #translates fov x, y , z(dist)\n",
    "            \n",
    "            Target()\n",
    "            pygame.display.flip()\n",
    "            pygame.time.wait(100)\n",
    "            glClear(GL_COLOR_BUFFER_BIT|GL_DEPTH_BUFFER_BIT)\n",
    "            \n",
    "    except Exception as e:\n",
    "        print (e)\n",
    "\n",
    "main()"
   ]
  }
 ],
 "metadata": {
  "kernelspec": {
   "display_name": "Python 3",
   "language": "python",
   "name": "python3"
  },
  "language_info": {
   "codemirror_mode": {
    "name": "ipython",
    "version": 3
   },
   "file_extension": ".py",
   "mimetype": "text/x-python",
   "name": "python",
   "nbconvert_exporter": "python",
   "pygments_lexer": "ipython3",
   "version": "3.6.2"
  }
 },
 "nbformat": 4,
 "nbformat_minor": 2
}
