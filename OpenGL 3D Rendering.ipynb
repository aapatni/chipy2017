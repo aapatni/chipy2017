{
 "cells": [
  {
   "cell_type": "code",
   "execution_count": 2,
   "metadata": {},
   "outputs": [
    {
     "name": "stdout",
     "output_type": "stream",
     "text": [
      "[-5.125, 0.0, -40.0]\n",
      "[-5.125, 0.0, -40.0]\n"
     ]
    },
    {
     "ename": "KeyboardInterrupt",
     "evalue": "",
     "output_type": "error",
     "traceback": [
      "\u001b[1;31m---------------------------------------------------------------------------\u001b[0m",
      "\u001b[1;31mKeyboardInterrupt\u001b[0m                         Traceback (most recent call last)",
      "\u001b[1;32m<ipython-input-2-b80a2e4b0229>\u001b[0m in \u001b[0;36m<module>\u001b[1;34m()\u001b[0m\n\u001b[0;32m     68\u001b[0m         \u001b[0mprint\u001b[0m\u001b[1;33m(\u001b[0m\u001b[0me\u001b[0m\u001b[1;33m)\u001b[0m\u001b[1;33m\u001b[0m\u001b[0m\n\u001b[0;32m     69\u001b[0m \u001b[1;33m\u001b[0m\u001b[0m\n\u001b[1;32m---> 70\u001b[1;33m \u001b[0mmain\u001b[0m\u001b[1;33m(\u001b[0m\u001b[1;33m)\u001b[0m\u001b[1;33m\u001b[0m\u001b[0m\n\u001b[0m",
      "\u001b[1;32m<ipython-input-2-b80a2e4b0229>\u001b[0m in \u001b[0;36mmain\u001b[1;34m()\u001b[0m\n\u001b[0;32m     60\u001b[0m             \u001b[0mTarget\u001b[0m\u001b[1;33m(\u001b[0m\u001b[1;33m)\u001b[0m\u001b[1;33m\u001b[0m\u001b[0m\n\u001b[0;32m     61\u001b[0m             \u001b[0mpygame\u001b[0m\u001b[1;33m.\u001b[0m\u001b[0mdisplay\u001b[0m\u001b[1;33m.\u001b[0m\u001b[0mflip\u001b[0m\u001b[1;33m(\u001b[0m\u001b[1;33m)\u001b[0m\u001b[1;33m\u001b[0m\u001b[0m\n\u001b[1;32m---> 62\u001b[1;33m             \u001b[0mpygame\u001b[0m\u001b[1;33m.\u001b[0m\u001b[0mtime\u001b[0m\u001b[1;33m.\u001b[0m\u001b[0mwait\u001b[0m\u001b[1;33m(\u001b[0m\u001b[1;36m1000\u001b[0m\u001b[1;33m)\u001b[0m\u001b[1;33m\u001b[0m\u001b[0m\n\u001b[0m\u001b[0;32m     63\u001b[0m             \u001b[0mglClear\u001b[0m\u001b[1;33m(\u001b[0m\u001b[0mGL_COLOR_BUFFER_BIT\u001b[0m\u001b[1;33m|\u001b[0m\u001b[0mGL_DEPTH_BUFFER_BIT\u001b[0m\u001b[1;33m)\u001b[0m\u001b[1;33m\u001b[0m\u001b[0m\n\u001b[0;32m     64\u001b[0m \u001b[1;33m\u001b[0m\u001b[0m\n",
      "\u001b[1;31mKeyboardInterrupt\u001b[0m: "
     ]
    }
   ],
   "source": [
    "import pygame\n",
    "from pygame.locals import *\n",
    "import random\n",
    "from OpenGL.GL import *\n",
    "from OpenGL.GLU import *\n",
    "import sys\n",
    "import math\n",
    "\n",
    "rect1 = [(-5.125,0,-40),(-3.125,0,-40),(-3.125,5,-40),(-5.125,5,-40),]\n",
    "rect2 = [(3.125,0,-40),(5.125,0,-40),(5.125,5,-40),(3.125,5,-40)]\n",
    "edges = ((0,1),(1,2),(2,3),(3,0))\n",
    "height = 240\n",
    "width = 320\n",
    "fov_y = 45\n",
    "    \n",
    "def TransformVec3(vecA,mat44):\n",
    "    vecB = [0, 0, 0, 0]\n",
    "    for i0 in range(0, 4):\n",
    "        vecB[i0] = vecA[0] * mat44[0*4+i0] + vecA[1] * mat44[1*4+i0] + vecA[2] * mat44[2*4+i0] + mat44[3*4+i0]\n",
    "    return [vecB[0]/vecB[3], vecB[1]/vecB[3], vecB[2]/vecB[3]]\n",
    "\n",
    "\n",
    "def Target():\n",
    "    glMatrixMode(GL_MODELVIEW)\n",
    "    prjMat = (GLfloat *16)()\n",
    "    glGetFloatv(GL_PROJECTION_MATRIX, prjMat)\n",
    "\n",
    "    \n",
    "    pos_ndc = TransformVec3(rect1[0], prjMat)\n",
    "    print (pos_ndc)\n",
    "    #pos_pixel_xy = [width*(pos_ndc[0]+1.0)/2.0, height*(1.0-pos_ndc[1])/2.0]\n",
    "    \n",
    "    #print (pos_pixel_xy)\n",
    "        \n",
    "    #print (rect2Left)\n",
    "    \n",
    "    glBegin(GL_LINES)\n",
    "    for edge in edges:\n",
    "        for vertex in edge:\n",
    "            glVertex3fv(rect1[vertex])\n",
    "    glEnd()\n",
    "    glBegin(GL_LINES)\n",
    "    for edge in edges:\n",
    "        for vertex in edge:\n",
    "            glVertex3fv(rect2[vertex])\n",
    "    glEnd()\n",
    "    \n",
    "def main():\n",
    "    try:\n",
    "        pygame.init()\n",
    "        display = (width,height)\n",
    "        pygame.display.set_mode(display, DOUBLEBUF|OPENGL)\n",
    "        gluPerspective(fov_y, (display[0]/display[1]), .1, 1000)\n",
    "        glMatrixMode(GL_PROJECTION)\n",
    "\n",
    "        while True:  \n",
    "            #glRotate(0,0,0,0) #angle, x, y, z\n",
    "            #glTranslate(0,0,0) #translates fov x, y , z(dist)\n",
    "\n",
    "            Target()\n",
    "            pygame.display.flip()\n",
    "            pygame.time.wait(1000)\n",
    "            glClear(GL_COLOR_BUFFER_BIT|GL_DEPTH_BUFFER_BIT)\n",
    "            \n",
    "    except Exception as e:\n",
    "        pygame.quit()\n",
    "        sys.quit()\n",
    "        print(e)\n",
    "\n",
    "main()"
   ]
  }
 ],
 "metadata": {
  "kernelspec": {
   "display_name": "Python 3",
   "language": "python",
   "name": "python3"
  },
  "language_info": {
   "codemirror_mode": {
    "name": "ipython",
    "version": 3
   },
   "file_extension": ".py",
   "mimetype": "text/x-python",
   "name": "python",
   "nbconvert_exporter": "python",
   "pygments_lexer": "ipython3",
   "version": "3.6.2"
  }
 },
 "nbformat": 4,
 "nbformat_minor": 2
}
